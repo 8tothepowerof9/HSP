{
 "cells": [
  {
   "cell_type": "code",
   "execution_count": 1,
   "metadata": {},
   "outputs": [
    {
     "name": "stdout",
     "output_type": "stream",
     "text": [
      "✅ Camera is working! Frame captured.\n"
     ]
    }
   ],
   "source": [
    "import cv2\n",
    "\n",
    "cap = cv2.VideoCapture(0)  # Windows DirectShow\n",
    "\n",
    "if not cap.isOpened():\n",
    "    print(\"❌ Error: Could not open camera!\")\n",
    "    exit()\n",
    "\n",
    "ret, frame = cap.read()\n",
    "if not ret:\n",
    "    print(\"❌ Error: Camera opened but failed to capture frame!\")\n",
    "else:\n",
    "    print(\"✅ Camera is working! Frame captured.\")\n",
    "\n",
    "cap.release()\n"
   ]
  },
  {
   "cell_type": "code",
   "execution_count": 2,
   "metadata": {},
   "outputs": [
    {
     "name": "stdout",
     "output_type": "stream",
     "text": [
      "(21, 3)\n"
     ]
    }
   ],
   "source": [
    "import mediapipe as mp\n",
    "import numpy as np\n",
    "\n",
    "mp_hands = mp.solutions.hands\n",
    "hands = mp_hands.Hands(static_image_mode=True,\n",
    "                       max_num_hands=1,\n",
    "                       min_detection_confidence=0.6)\n",
    "\n",
    "def extract_landmarks(image_path):\n",
    "    \"\"\"\n",
    "    Extract hand landmarks from the given image.\n",
    "\n",
    "    :param image_path: Path to the image file.\n",
    "    :return: A NumPy array of landmarks.\n",
    "    \"\"\"\n",
    "    image = cv2.imread(image_path)\n",
    "    image_rgb = cv2.cvtColor(image, cv2.COLOR_BGR2RGB)\n",
    "\n",
    "\n",
    "    results = hands.process(image_rgb)\n",
    "    if results.multi_hand_landmarks:\n",
    "        # Extract landmarks for the first hand detected\n",
    "        landmarks = results.multi_hand_landmarks[0].landmark\n",
    "        # Convert landmarks to a NumPy array\n",
    "        landmarks_array = np.array([(lm.x, lm.y, lm.z) for lm in landmarks])\n",
    "        return landmarks_array\n",
    "    return None\n",
    "\n",
    "landmarks = extract_landmarks(\"hand.jpg\")\n",
    "print(landmarks.shape)"
   ]
  },
  {
   "cell_type": "code",
   "execution_count": 3,
   "metadata": {},
   "outputs": [
    {
     "name": "stdout",
     "output_type": "stream",
     "text": [
      "   A  0.6689752340316772  0.5654740333557129  -5.30485010585835e-07  \\\n",
      "0  A            0.668611            0.565372          -5.277825e-07   \n",
      "1  A            0.669489            0.566128          -5.282753e-07   \n",
      "2  A            0.671489            0.568260          -5.294892e-07   \n",
      "3  A            0.671059            0.567165          -5.322947e-07   \n",
      "4  A            0.672368            0.568899          -5.233154e-07   \n",
      "\n",
      "   0.6109158396720886  0.5331746339797974  -0.015173280611634254  \\\n",
      "0            0.610713            0.532992              -0.015437   \n",
      "1            0.611115            0.534201              -0.015478   \n",
      "2            0.613247            0.536090              -0.015382   \n",
      "3            0.612615            0.534281              -0.014610   \n",
      "4            0.614054            0.535379              -0.015593   \n",
      "\n",
      "   0.5732476711273193  0.45701250433921814  -0.018423033878207207  ...  \\\n",
      "0            0.572790             0.457128              -0.018826  ...   \n",
      "1            0.572912             0.457666              -0.018763  ...   \n",
      "2            0.575536             0.458638              -0.018474  ...   \n",
      "3            0.574985             0.457703              -0.017736  ...   \n",
      "4            0.576487             0.458752              -0.018997  ...   \n",
      "\n",
      "   -0.014269979670643806  0.6974304914474487  0.3946588635444641  \\\n",
      "0              -0.014030            0.696984            0.395469   \n",
      "1              -0.014407            0.697348            0.395202   \n",
      "2              -0.014883            0.700824            0.395115   \n",
      "3              -0.014368            0.699782            0.395822   \n",
      "4              -0.015141            0.702244            0.395901   \n",
      "\n",
      "   -0.03352194279432297  0.6876905560493469  0.44269752502441406  \\\n",
      "0             -0.033604            0.687206             0.443548   \n",
      "1             -0.033809            0.687503             0.443505   \n",
      "2             -0.034248            0.690635             0.443819   \n",
      "3             -0.033370            0.689966             0.444314   \n",
      "4             -0.034574            0.691705             0.444268   \n",
      "\n",
      "   -0.027264488860964775  0.6805659532546997  0.4789184629917145  \\\n",
      "0              -0.027576            0.679851            0.479944   \n",
      "1              -0.027539            0.680082            0.479439   \n",
      "2              -0.027924            0.682285            0.479391   \n",
      "3              -0.027124            0.682259            0.480948   \n",
      "4              -0.028073            0.683201            0.479917   \n",
      "\n",
      "   -0.01672486774623394  \n",
      "0             -0.017168  \n",
      "1             -0.016975  \n",
      "2             -0.017342  \n",
      "3             -0.016705  \n",
      "4             -0.017323  \n",
      "\n",
      "[5 rows x 64 columns]\n"
     ]
    }
   ],
   "source": [
    "import pandas as pd\n",
    "\n",
    "# Read the CSV file\n",
    "asl_data = pd.read_csv('../asl_dataset/A.csv')\n",
    "\n",
    "# Display the first few rows of the dataframe\n",
    "print(asl_data.head())"
   ]
  },
  {
   "cell_type": "code",
   "execution_count": null,
   "metadata": {},
   "outputs": [],
   "source": []
  }
 ],
 "metadata": {
  "kernelspec": {
   "display_name": "dl",
   "language": "python",
   "name": "python3"
  },
  "language_info": {
   "codemirror_mode": {
    "name": "ipython",
    "version": 3
   },
   "file_extension": ".py",
   "mimetype": "text/x-python",
   "name": "python",
   "nbconvert_exporter": "python",
   "pygments_lexer": "ipython3",
   "version": "3.12.7"
  }
 },
 "nbformat": 4,
 "nbformat_minor": 2
}
